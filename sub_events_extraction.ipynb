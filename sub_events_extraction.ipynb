{
 "cells": [
  {
   "cell_type": "code",
   "execution_count": 12,
   "metadata": {},
   "outputs": [
    {
     "name": "stdout",
     "output_type": "stream",
     "text": [
      "sub_event_type\n",
      "Air/drone strike                      25235\n",
      "Armed clash                           49467\n",
      "Disrupted weapons use                  9187\n",
      "Government regains territory            350\n",
      "Shelling/artillery/missile attack    102879\n",
      "dtype: int64\n"
     ]
    }
   ],
   "source": [
    "import pandas as pd\n",
    "import numpy as np\n",
    "\n",
    "\n",
    "pd.set_option('display.max_colwidth', None)  # Show full content in each cell\n",
    "pd.set_option('display.max_rows', None)      # Show all rows\n",
    "pd.set_option('display.max_columns', None)   # Show all columns\n",
    "\n",
    "\n",
    "sourceDf = pd.read_csv(\"./data/Europe-Central-Asia_2018-2024_Sep27.csv\")\n",
    "sourceDf[\"notes\"] = sourceDf[\"notes\"].str.strip()\n",
    "unique_sub_event = sourceDf['sub_event_type'].unique()\n",
    "unique_sub_event = np.sort(unique_sub_event)\n",
    "\n",
    "non_war_related_event  = [\n",
    "    'Agreement',\n",
    "    'Arrests',\n",
    "    'Mob violence',\n",
    "    'Excessive force against protesters',\n",
    "    'Peaceful protest',\n",
    "    'Protest with intervention',\n",
    "    'Sexual violence',\n",
    "    'Violent demonstration',\n",
    "    'Looting/property destruction'\n",
    "]\n",
    "\n",
    "war_related_event =  [event for event in unique_sub_event if event not in non_war_related_event]\n",
    "project_related_event = [\n",
    "    'Armed clash',\n",
    "    'Shelling/artillery/missile attack',\n",
    "    'Disrupted weapons use',\n",
    "    'Air/drone strike',\n",
    "    'Government regains territory'\n",
    "]\n",
    "\n",
    "ukraine_russia_events = sourceDf[(sourceDf[\"country\"] == \"Ukraine\") | (sourceDf[\"country\"] == \"Russia\")]\n",
    "ukraine_war_events = ukraine_russia_events[ukraine_russia_events[\"sub_event_type\"].isin(project_related_event)]\n",
    "\n",
    "count_by_event_type = ukraine_war_events.groupby(\"sub_event_type\").size()\n",
    "print(count_by_event_type)"
   ]
  },
  {
   "cell_type": "code",
   "execution_count": 7,
   "metadata": {},
   "outputs": [],
   "source": [
    "import warnings\n",
    "# if u hate warnings\n",
    "\n",
    "# Suppress all warnings\n",
    "warnings.filterwarnings(\"ignore\")"
   ]
  },
  {
   "cell_type": "markdown",
   "metadata": {},
   "source": [
    "## Actor Nationality"
   ]
  },
  {
   "cell_type": "code",
   "execution_count": 13,
   "metadata": {},
   "outputs": [],
   "source": [
    "def get_actor_ntnlty(ukraine_war_events):\n",
    "    old_col = set(ukraine_war_events.columns)\n",
    "    ukraine_war_events['event_date'] = pd.to_datetime(ukraine_war_events['event_date'])\n",
    "    ukraine_war_events['actor1_ntnlty'] = np.where(ukraine_war_events['actor1'].str.upper().str.contains('RUSSIA'), 'RUSSIA',\n",
    "                                           np.where(ukraine_war_events['actor1'].str.upper().str.contains('UKRAINE'), 'UKRAINE', 'OTHER'))\n",
    "    ukraine_war_events['actor2_ntnlty'] = np.where(ukraine_war_events['actor2'].str.upper().str.contains('RUSSIA'), 'RUSSIA',\n",
    "                                            np.where(ukraine_war_events['actor2'].str.upper().str.contains('UKRAINE'), 'UKRAINE', 'OTHER'))\n",
    "\n",
    "    ukraine_war_events['actor1_ntnlty'] = np.where(ukraine_war_events['actor1'].isna(), 'NO_ACTOR', ukraine_war_events['actor1_ntnlty'])\n",
    "    ukraine_war_events['actor2_ntnlty'] = np.where(ukraine_war_events['actor2'].isna(), 'NO_ACTOR', ukraine_war_events['actor2_ntnlty'])\n",
    "    # hard coded\n",
    "    ukraine_war_events.loc[ukraine_war_events['actor1'] == 'Atesh', 'actor1_ntnlty'] = 'UKRAINE'\n",
    "    ukraine_war_events.loc[ukraine_war_events['actor1'] == 'NAF: United Armed Forces of Novorossiya', 'actor1_ntnlty'] = 'RUSSIA'\n",
    "    ukraine_war_events.loc[ukraine_war_events['actor1'] == 'Wagner Group', 'actor1_ntnlty'] = 'RUSSIA'\n",
    "    ukraine_war_events.loc[ukraine_war_events['actor1'] == 'Right Sector', 'actor1_ntnlty'] = 'UKRAINE'\n",
    "\n",
    "    ukraine_war_events.loc[ukraine_war_events['actor2'] == 'NAF: United Armed Forces of Novorossiya', 'actor2_ntnlty'] = 'RUSSIA'\n",
    "    ukraine_war_events.loc[ukraine_war_events['actor2'] == 'Militia (Kharachinsky)  ', 'actor2_ntnlty'] = 'RUSSIA'\n",
    "    ukraine_war_events.loc[ukraine_war_events['actor2'] == 'Wagner Group', 'actor2_ntnlty'] = 'RUSSIA'\n",
    "    ukraine_war_events.loc[ukraine_war_events['actor2'] == 'Right Sector', 'actor2_ntnlty'] = 'UKRAINE'\n",
    "    new_col = set(ukraine_war_events.columns)\n",
    "    add_col = new_col-old_col\n",
    "    print(f'added {len(add_col)} columns: {add_col}')\n",
    "    return ukraine_war_events"
   ]
  },
  {
   "cell_type": "code",
   "execution_count": 14,
   "metadata": {},
   "outputs": [
    {
     "name": "stdout",
     "output_type": "stream",
     "text": [
      "added 2 columns: {'actor2_ntnlty', 'actor1_ntnlty'}\n"
     ]
    }
   ],
   "source": [
    "ukraine_war_events = get_actor_ntnlty(ukraine_war_events)"
   ]
  },
  {
   "cell_type": "code",
   "execution_count": 17,
   "metadata": {},
   "outputs": [
    {
     "data": {
      "text/html": [
       "<div>\n",
       "<style scoped>\n",
       "    .dataframe tbody tr th:only-of-type {\n",
       "        vertical-align: middle;\n",
       "    }\n",
       "\n",
       "    .dataframe tbody tr th {\n",
       "        vertical-align: top;\n",
       "    }\n",
       "\n",
       "    .dataframe thead th {\n",
       "        text-align: right;\n",
       "    }\n",
       "</style>\n",
       "<table border=\"1\" class=\"dataframe\">\n",
       "  <thead>\n",
       "    <tr style=\"text-align: right;\">\n",
       "      <th></th>\n",
       "      <th>actor1</th>\n",
       "      <th>actor1_ntnlty</th>\n",
       "      <th>actor2</th>\n",
       "      <th>actor2_ntnlty</th>\n",
       "    </tr>\n",
       "  </thead>\n",
       "  <tbody>\n",
       "    <tr>\n",
       "      <th>70</th>\n",
       "      <td>Military Forces of Russia (2000-) Chechen Battalion of Ramzan Kadyrov</td>\n",
       "      <td>RUSSIA</td>\n",
       "      <td>Military Forces of Ukraine (2019-)</td>\n",
       "      <td>UKRAINE</td>\n",
       "    </tr>\n",
       "    <tr>\n",
       "      <th>71</th>\n",
       "      <td>Military Forces of Russia (2000-)</td>\n",
       "      <td>RUSSIA</td>\n",
       "      <td>Military Forces of Ukraine (2019-) Air Force</td>\n",
       "      <td>UKRAINE</td>\n",
       "    </tr>\n",
       "    <tr>\n",
       "      <th>72</th>\n",
       "      <td>Military Forces of Russia (2000-)</td>\n",
       "      <td>RUSSIA</td>\n",
       "      <td>Military Forces of Ukraine (2019-) Air Force</td>\n",
       "      <td>UKRAINE</td>\n",
       "    </tr>\n",
       "    <tr>\n",
       "      <th>73</th>\n",
       "      <td>Military Forces of Ukraine (2019-) Air Force</td>\n",
       "      <td>UKRAINE</td>\n",
       "      <td>NaN</td>\n",
       "      <td>NO_ACTOR</td>\n",
       "    </tr>\n",
       "    <tr>\n",
       "      <th>74</th>\n",
       "      <td>Military Forces of Ukraine (2019-) Air Force</td>\n",
       "      <td>UKRAINE</td>\n",
       "      <td>Civilians (Russia)</td>\n",
       "      <td>RUSSIA</td>\n",
       "    </tr>\n",
       "    <tr>\n",
       "      <th>76</th>\n",
       "      <td>Military Forces of Ukraine (2019-) Air Force</td>\n",
       "      <td>UKRAINE</td>\n",
       "      <td>Civilians (Russia)</td>\n",
       "      <td>RUSSIA</td>\n",
       "    </tr>\n",
       "    <tr>\n",
       "      <th>77</th>\n",
       "      <td>Military Forces of Ukraine (2019-) Air Force</td>\n",
       "      <td>UKRAINE</td>\n",
       "      <td>Civilians (Russia)</td>\n",
       "      <td>RUSSIA</td>\n",
       "    </tr>\n",
       "    <tr>\n",
       "      <th>78</th>\n",
       "      <td>Military Forces of Ukraine (2019-) Air Force</td>\n",
       "      <td>UKRAINE</td>\n",
       "      <td>Civilians (Russia)</td>\n",
       "      <td>RUSSIA</td>\n",
       "    </tr>\n",
       "    <tr>\n",
       "      <th>79</th>\n",
       "      <td>Military Forces of Ukraine (2019-) Air Force</td>\n",
       "      <td>UKRAINE</td>\n",
       "      <td>NaN</td>\n",
       "      <td>NO_ACTOR</td>\n",
       "    </tr>\n",
       "    <tr>\n",
       "      <th>80</th>\n",
       "      <td>Military Forces of Ukraine (2019-) Air Force</td>\n",
       "      <td>UKRAINE</td>\n",
       "      <td>Civilians (Russia)</td>\n",
       "      <td>RUSSIA</td>\n",
       "    </tr>\n",
       "  </tbody>\n",
       "</table>\n",
       "</div>"
      ],
      "text/plain": [
       "                                                                   actor1  \\\n",
       "70  Military Forces of Russia (2000-) Chechen Battalion of Ramzan Kadyrov   \n",
       "71                                      Military Forces of Russia (2000-)   \n",
       "72                                      Military Forces of Russia (2000-)   \n",
       "73                           Military Forces of Ukraine (2019-) Air Force   \n",
       "74                           Military Forces of Ukraine (2019-) Air Force   \n",
       "76                           Military Forces of Ukraine (2019-) Air Force   \n",
       "77                           Military Forces of Ukraine (2019-) Air Force   \n",
       "78                           Military Forces of Ukraine (2019-) Air Force   \n",
       "79                           Military Forces of Ukraine (2019-) Air Force   \n",
       "80                           Military Forces of Ukraine (2019-) Air Force   \n",
       "\n",
       "   actor1_ntnlty                                        actor2 actor2_ntnlty  \n",
       "70        RUSSIA            Military Forces of Ukraine (2019-)       UKRAINE  \n",
       "71        RUSSIA  Military Forces of Ukraine (2019-) Air Force       UKRAINE  \n",
       "72        RUSSIA  Military Forces of Ukraine (2019-) Air Force       UKRAINE  \n",
       "73       UKRAINE                                           NaN      NO_ACTOR  \n",
       "74       UKRAINE                            Civilians (Russia)        RUSSIA  \n",
       "76       UKRAINE                            Civilians (Russia)        RUSSIA  \n",
       "77       UKRAINE                            Civilians (Russia)        RUSSIA  \n",
       "78       UKRAINE                            Civilians (Russia)        RUSSIA  \n",
       "79       UKRAINE                                           NaN      NO_ACTOR  \n",
       "80       UKRAINE                            Civilians (Russia)        RUSSIA  "
      ]
     },
     "execution_count": 17,
     "metadata": {},
     "output_type": "execute_result"
    }
   ],
   "source": [
    "ukraine_war_events[['actor1', 'actor1_ntnlty', 'actor2', 'actor2_ntnlty']].head(10)"
   ]
  },
  {
   "cell_type": "markdown",
   "metadata": {},
   "source": [
    "## Armed Clash"
   ]
  },
  {
   "cell_type": "code",
   "execution_count": 25,
   "metadata": {},
   "outputs": [],
   "source": [
    "armed_clash_df = ukraine_war_events[ukraine_war_events['sub_event_type'] == 'Armed clash']"
   ]
  },
  {
   "cell_type": "code",
   "execution_count": 26,
   "metadata": {},
   "outputs": [],
   "source": [
    "def armed_clash_extraction(armed_clash_df):\n",
    "    old_col = set(armed_clash_df.columns)\n",
    "\n",
    "    armed_clash_df['is_supported'] = armed_clash_df['notes'].str.lower().str.contains('supported')\n",
    "    armed_clash_df['is_shelling'] = armed_clash_df['notes'].str.lower().str.contains('shelling')\n",
    "\n",
    "    # extract number of item losses\n",
    "    # can't guaranteee it's the loss of which side\n",
    "\n",
    "    # dont need this anymore, these data can be found on the spreadsheet/ do it just as a back-up\n",
    "    keywords = ['vehicle', 'armored_vehicle', 'car', 'boat', 'drone', 'cannon', 'uav', 'mortar']\n",
    "    # create columns\n",
    "    for e in keywords:\n",
    "        armed_clash_df[f'{e}_losses'] = 0\n",
    "\n",
    "    # equipment losses\n",
    "    for idx, r in armed_clash_df.iterrows():\n",
    "        notes = r.notes.lower()\n",
    "        tmp_list = notes.split(' ')\n",
    "        for i in range(len(tmp_list)):\n",
    "            for e in keywords: \n",
    "                if e in tmp_list[i]: # keyword detected\n",
    "                    if tmp_list[i-1] == 'armored' and 'vehicle' in tmp_list[i]: # armored vehicle detected\n",
    "                        item = 'armored_vehicle'\n",
    "                    else:\n",
    "                        item = e\n",
    "                    n_loss = 0\n",
    "                    for j in range(1,4): # moves back 4 idx\n",
    "                        if tmp_list[i-j].isdigit():\n",
    "                            n_loss = int(tmp_list[i-j])\n",
    "                            break\n",
    "                        elif tmp_list[i-j] in ['a', 'an']:\n",
    "                            n_loss = 1\n",
    "                            break\n",
    "                    armed_clash_df.at[idx, f'{item}_losses'] += n_loss\n",
    "\n",
    "    # supported\n",
    "    support_types = ['air_forces', 'artillery', 'aviation', 'air_units']\n",
    "    # ensure if this is close by the word 'supported, have to perform indexing\n",
    "    # create columns\n",
    "    for e in support_types:\n",
    "        armed_clash_df[f'{e}_supported'] = False\n",
    "\n",
    "    for idx, r in armed_clash_df[armed_clash_df['is_supported'] == True].iterrows():\n",
    "        notes = r.notes.lower()\n",
    "        tmp_list = notes.split(' ')\n",
    "        for i in range(len(tmp_list)):\n",
    "            if tmp_list[i] == 'supported':\n",
    "                quota = min(5, len(tmp_list)-(i+1)) # scanning next 5 words\n",
    "                pointer = i+1\n",
    "                while quota > 0:\n",
    "                    if 'artillery' in tmp_list[pointer]:\n",
    "                        armed_clash_df.at[idx, f'artillery_supported'] = True\n",
    "                        quota = min(5, len(tmp_list)-(pointer+1))\n",
    "                    elif 'aviation' in tmp_list[pointer]:\n",
    "                        armed_clash_df.at[idx, f'aviation_supported'] = True\n",
    "                        quota = min(5, len(tmp_list)-(pointer+1))\n",
    "                    elif 'air' in tmp_list[pointer] and 'force' in tmp_list[pointer+1]:\n",
    "                        armed_clash_df.at[idx, 'air_forces_supported'] = True\n",
    "                        quota = min(5, len(tmp_list)-(pointer+1))\n",
    "                    elif 'air' in tmp_list[pointer] and 'unit' in tmp_list[pointer+1]:\n",
    "                        armed_clash_df.at[idx, 'air_units_supported'] = True\n",
    "                        quota = min(5, len(tmp_list)-(pointer+1))\n",
    "                    else:\n",
    "                        quota -= 1\n",
    "                    pointer += 1\n",
    "    \n",
    "    new_col = set(armed_clash_df.columns)\n",
    "    add_col = new_col-old_col\n",
    "    print(f'added {len(add_col)} columns: {add_col}')\n",
    "    return armed_clash_df\n"
   ]
  },
  {
   "cell_type": "code",
   "execution_count": 27,
   "metadata": {},
   "outputs": [
    {
     "name": "stdout",
     "output_type": "stream",
     "text": [
      "added 14 columns: {'artillery_supported', 'drone_losses', 'armored_vehicle_losses', 'air_units_supported', 'cannon_losses', 'mortar_losses', 'car_losses', 'uav_losses', 'boat_losses', 'vehicle_losses', 'is_shelling', 'air_forces_supported', 'is_supported', 'aviation_supported'}\n"
     ]
    }
   ],
   "source": [
    "armed_clash_df = armed_clash_extraction(armed_clash_df)"
   ]
  },
  {
   "cell_type": "code",
   "execution_count": 34,
   "metadata": {},
   "outputs": [],
   "source": [
    "# to_show = ['artillery_supported', 'drone_losses', 'armored_vehicle_losses', 'air_units_supported', 'cannon_losses', 'mortar_losses', 'car_losses', 'uav_losses', 'boat_losses', 'vehicle_losses', 'is_shelling', 'air_forces_supported', 'is_supported', 'aviation_supported']\n",
    "# to_show += ['notes']\n",
    "# for c in to_show:\n",
    "#     if 'supported' in c:\n",
    "#         print(c)\n",
    "#         tmp_df = armed_clash_df[armed_clash_df[c] == True]['notes'].head(3)\n",
    "#         print(tmp_df)\n",
    "#         print()\n"
   ]
  },
  {
   "cell_type": "markdown",
   "metadata": {},
   "source": [
    "## Shelling/artillery/missile attack"
   ]
  },
  {
   "cell_type": "code",
   "execution_count": 32,
   "metadata": {},
   "outputs": [],
   "source": [
    "attack_df = ukraine_war_events[ukraine_war_events['sub_event_type'] == 'Shelling/artillery/missile attack']"
   ]
  },
  {
   "cell_type": "code",
   "execution_count": 33,
   "metadata": {},
   "outputs": [],
   "source": [
    "def shelling_extraction(attack_df):\n",
    "    # does {word} exist?\n",
    "    attack_keywords = ['shelling', 'artillery', 'missile', 'mortar']\n",
    "\n",
    "    # indicator to stop searching for missile types\n",
    "    stoppers = ['launched', 'out', 'fired', 'ukrain', 'russia', 'likely', 'with', 'mortar', 'artillery', 'suspected', 'intercepted', 'conducted']\n",
    "    articles = ['a', 'an', 'the', 'one', 'two', 'three', 'some']\n",
    "\n",
    "    # type of missile\n",
    "\n",
    "    for e in attack_keywords:\n",
    "        attack_df[f'{e}_flag'] = False\n",
    "\n",
    "    attack_df['missile_type'] = ''\n",
    "\n",
    "    for idx, r in attack_df.iterrows():\n",
    "        tmp_list = r.notes.lower().split(' ')\n",
    "        i = 0\n",
    "        for p in tmp_list:\n",
    "            for e in attack_keywords:\n",
    "                if e in p:\n",
    "                    attack_df.at[idx, f'{e}_flag'] = True\n",
    "                    if e == 'missile' and p != 'shelling/artillery/missile':\n",
    "                        # try search for model\n",
    "                        n_lookback = 5\n",
    "                        model = ''\n",
    "                        for j in range(1, n_lookback+1):\n",
    "                            curr_word = tmp_list[i-j]\n",
    "                            stop_flag = False\n",
    "                            for stp in stoppers:\n",
    "                                if stp in curr_word:\n",
    "                                    stop_flag = True\n",
    "                            if stop_flag == True or curr_word in articles or curr_word.isdigit():\n",
    "                                break\n",
    "                            else:\n",
    "                                model = curr_word + ' ' + model\n",
    "                        if model[:4] == 'and ': model = model[4:]\n",
    "                        attack_df.at[idx, 'missile_type'] = model.replace(\"\"\"'\"\"\",'').strip()\n",
    "            i += 1\n",
    "    missile_catgs = ['anti-tank', 'anti-aircraft', 'anti-ship', 'anti-air', 'anti-radar']\n",
    "    for e in missile_catgs:\n",
    "        attack_df[e] = attack_df['missile_type'].str.contains(e) | attack_df['missile_type'].str.contains(e.replace('-', ''))\n",
    "    # last filter \n",
    "    missile_topkey = ['grad', 'himars', 's-300', 'grad', 'uragan', 'iskander','c-300', 'mlrs', 'ballistic', 'tochka', 'smerch', 'kalibr', 'high-precision', 'storm shadow']\n",
    "    for e in missile_topkey:\n",
    "        attack_df[e.replace(' ', '-')] = attack_df['missile_type'].str.contains(e)\n",
    "    \n",
    "    return attack_df"
   ]
  },
  {
   "cell_type": "code",
   "execution_count": 35,
   "metadata": {},
   "outputs": [],
   "source": [
    "attack_df = shelling_extraction(attack_df)"
   ]
  },
  {
   "cell_type": "code",
   "execution_count": 37,
   "metadata": {},
   "outputs": [],
   "source": [
    "# attack_df.head(50)"
   ]
  },
  {
   "cell_type": "code",
   "execution_count": 38,
   "metadata": {},
   "outputs": [],
   "source": [
    "# attack_df[attack_df['missile_flag'] == True].head(50)"
   ]
  },
  {
   "cell_type": "markdown",
   "metadata": {},
   "source": [
    "## Disrupted Weapon Used"
   ]
  },
  {
   "cell_type": "code",
   "execution_count": 41,
   "metadata": {},
   "outputs": [],
   "source": [
    "disrupt_df = ukraine_war_events[ukraine_war_events['sub_event_type'] == 'Disrupted weapons use']"
   ]
  },
  {
   "cell_type": "code",
   "execution_count": 39,
   "metadata": {},
   "outputs": [],
   "source": [
    "def disrupt_extraction(disrupt_df):\n",
    "    # mine only drone's model\n",
    "    objects = ['drone', 'kamikaze-drone', 'air-bomb', 'missile', 'uxo', 'artillery-shell', 'aviation-bomb', 'ballistic', 'missile', 'bomb', 'explosive', 'glider-bomb']\n",
    "    int_stoppers = ['down', 'intercepted', 'defused', 'neutralized', 'destroyed']\n",
    "    lnch_stoppers = ['launched']\n",
    "    universal_stopper = ['and']\n",
    "    word_to_num = {\n",
    "        \"zero\": 0, \"one\": 1, \"two\": 2, \"three\": 3, \"four\": 4,\n",
    "        \"five\": 5, \"six\": 6, \"seven\": 7, \"eight\": 8, \"nine\": 9,\n",
    "        \"ten\": 10\n",
    "    }\n",
    "\n",
    "    for e in objects:\n",
    "        disrupt_df[f'n_{e}_launched'] = 0\n",
    "        disrupt_df[f'flag_{e}_launched'] = False\n",
    "        disrupt_df[f'n_{e}_intercepted'] = 0\n",
    "        disrupt_df[f'flag_{e}_intercepted'] = False\n",
    "\n",
    "    for idx, r in disrupt_df.iterrows():\n",
    "        tmp_list = r.notes.lower().split(' ')\n",
    "        for i in range(len(tmp_list)):\n",
    "            cond = False\n",
    "            for obj in objects:\n",
    "                cond = cond | (obj in tmp_list[i])\n",
    "            # corner cases\n",
    "            if i+1 <= len(tmp_list)-1:\n",
    "                cond = cond | ('air' in tmp_list[i] and 'bomb' in tmp_list[i+1])\n",
    "                cond = cond | ('artillery' in tmp_list[i] and 'shell' in tmp_list[i+1])\n",
    "                cond = cond | ('aviation' in tmp_list[i] and 'bomb' in tmp_list[i+1])\n",
    "                cond = cond | ('glider' in tmp_list[i] and 'bomb' in tmp_list[i+1])\n",
    "            if cond == True:\n",
    "                curr_col = ''\n",
    "                for obj in objects:\n",
    "                    if (obj in tmp_list[i]):\n",
    "                        curr_col = obj\n",
    "                if i+1 <= len(tmp_list)-1:\n",
    "                    if ('artillery' in tmp_list[i] and 'shell' in tmp_list[i+1]):\n",
    "                        curr_col = 'artillery-shell'\n",
    "                    elif ('aviation' in tmp_list[i] and 'bomb' in tmp_list[i+1]):\n",
    "                        curr_col = 'aviation-bomb'\n",
    "                    elif ('glider' in tmp_list[i] and 'bomb' in tmp_list[i+1]):\n",
    "                        curr_col = 'glider-bomb'\n",
    "                    elif ('air' in tmp_list[i] and 'bomb' in tmp_list[i+1]):\n",
    "                        curr_col = 'air-bomb'\n",
    "                \n",
    "                # lookback\n",
    "                n_limit = 1\n",
    "                n_max = 5\n",
    "                num = 0\n",
    "                while n_limit <= n_max: # wasteful lookback\n",
    "                    if i-n_limit < 0: break\n",
    "                    curr_word = tmp_list[i-n_limit]\n",
    "                    if curr_word.isdigit() and num == 0: # avoid reassigning\n",
    "                        num = int(curr_word)\n",
    "                    elif curr_word in word_to_num and num == 0:\n",
    "                        num = word_to_num[curr_word]\n",
    "                    elif curr_word in ['a', 'an'] and num == 0:\n",
    "                        num = 1\n",
    "                \n",
    "                    # verbs\n",
    "                    elif curr_word in int_stoppers: # interception\n",
    "                        disrupt_df.at[idx, f'n_{curr_col}_intercepted'] += num\n",
    "                        disrupt_df.at[idx, f'flag_{curr_col}_intercepted'] = True\n",
    "                        break\n",
    "\n",
    "                    elif curr_word in lnch_stoppers: # interception\n",
    "                        disrupt_df.at[idx, f'n_{curr_col}_launched'] += num\n",
    "                        disrupt_df.at[idx, f'flag_{curr_col}_launched'] = True\n",
    "                        break\n",
    "\n",
    "\n",
    "                    elif curr_word in universal_stopper or curr_word[-1] == ',':\n",
    "                        n_max += 10\n",
    "                    n_limit += 1\n",
    "\n",
    "    # only drone models, otherwise too complicated\n",
    "    stoppers = int_stoppers+lnch_stoppers+universal_stopper\n",
    "    disrupt_df['drone_model'] = ''\n",
    "    for idx, r in disrupt_df.iterrows():\n",
    "        tmp_list = r.notes.lower().split(' ')\n",
    "        for i in range(len(tmp_list)):\n",
    "            if 'drone' in tmp_list[i]:\n",
    "                n_lookback = 5\n",
    "                model = ''\n",
    "                for j in range(1, n_lookback+1):\n",
    "                    curr_word = tmp_list[i-j]\n",
    "                    stop_flag = False\n",
    "                    for stp in stoppers:\n",
    "                        if stp in curr_word:\n",
    "                            stop_flag = True\n",
    "                    if stop_flag == True or curr_word in ['a', 'an'] or curr_word.isdigit() or curr_word in word_to_num:\n",
    "                        break\n",
    "                    else:\n",
    "                        model = curr_word + ' ' + model\n",
    "                disrupt_df.at[idx, 'drone_model'] = model.replace(\"\"\"'\"\"\",'').strip()\n",
    "                break # done if find one\n",
    "    \n",
    "    return disrupt_df\n"
   ]
  },
  {
   "cell_type": "code",
   "execution_count": 42,
   "metadata": {},
   "outputs": [],
   "source": [
    "disrupt_df = disrupt_extraction(disrupt_df)"
   ]
  },
  {
   "cell_type": "code",
   "execution_count": 44,
   "metadata": {},
   "outputs": [],
   "source": [
    "# objects = ['drone', 'kamikaze-drone', 'air-bomb', 'missile', 'uxo', 'artillery-shell', 'aviation-bomb', 'ballistic', 'missile', 'bomb', 'explosive', 'glider-bomb']\n",
    "# for obj in objects:\n",
    "#     print(obj)\n",
    "#     tmp_df = disrupt_df[disrupt_df[f'flag_{obj}_intercepted'] == True][['notes', f'flag_{obj}_intercepted', f'n_{obj}_intercepted']].head(2)\n",
    "#     print(tmp_df)\n",
    "#     tmp_df = disrupt_df[disrupt_df[f'flag_{obj}_launched'] == True][['notes', f'flag_{obj}_launched', f'n_{obj}_launched']].head(2)\n",
    "#     print(tmp_df)\n",
    "#     print(' ')"
   ]
  },
  {
   "cell_type": "code",
   "execution_count": 46,
   "metadata": {},
   "outputs": [],
   "source": [
    "# disrupt_df[['notes', 'drone_model']].head(20)"
   ]
  },
  {
   "cell_type": "markdown",
   "metadata": {},
   "source": [
    "## Air/drone strike"
   ]
  },
  {
   "cell_type": "code",
   "execution_count": 47,
   "metadata": {},
   "outputs": [],
   "source": [
    "air_df = ukraine_war_events[ukraine_war_events['sub_event_type'] == 'Air/drone strike']"
   ]
  },
  {
   "cell_type": "code",
   "execution_count": 48,
   "metadata": {},
   "outputs": [],
   "source": [
    "def airstrike_extraction(air_df):\n",
    "    word_to_num = {\n",
    "    \"zero\": 0, \"one\": 1, \"two\": 2, \"three\": 3, \"four\": 4,\n",
    "    \"five\": 5, \"six\": 6, \"seven\": 7, \"eight\": 8, \"nine\": 9,\n",
    "    \"ten\": 10\n",
    "    }\n",
    "\n",
    "\n",
    "    keywords = ['drone', 'drone-strike', 'mortar', 'air-strike', 'kamikaze-drone', 'artillery']\n",
    "    for c in keywords:\n",
    "        air_df[f'flag_{c}'] = False\n",
    "\n",
    "    # only these twos are important\n",
    "    air_df['n_drone-strike'] = 0\n",
    "    air_df['n_artillery'] = 0\n",
    "\n",
    "    for idx, r in air_df.iterrows():\n",
    "        tmp_list = r.notes.lower().split(' ')\n",
    "        for i in range(len(tmp_list)):\n",
    "            col = ''\n",
    "            for e in keywords:\n",
    "                if e in tmp_list[i]:\n",
    "                    col = e\n",
    "            if 'airstrike' in tmp_list[i]:\n",
    "                col = 'air-strike'\n",
    "            elif i+1 <= len(tmp_list) - 1:\n",
    "                if tmp_list[i] == 'drone' and 'strike' in tmp_list[i+1]:\n",
    "                    col = 'drone-strike'\n",
    "                elif 'drone' in tmp_list[i] and 'struck' in tmp_list[i+1]:\n",
    "                    col = 'drone-strike'\n",
    "                elif tmp_list[i] == 'air' and 'strike' in tmp_list[i+1]:\n",
    "                    col = 'air-strike'\n",
    "            \n",
    "            if col != '':\n",
    "                air_df.at[idx, f'flag_{col}'] = True\n",
    "                if col in ['drone-strike', 'artillery']: # look for n\n",
    "                    for j in range(5):\n",
    "                        if i-j < 0: break\n",
    "                        curr_word = tmp_list[i-j]\n",
    "                        if curr_word in ['a', 'an']:\n",
    "                            air_df.at[idx, f'n_{col}'] += 1\n",
    "                            break\n",
    "                        elif curr_word.isdigit():\n",
    "                            air_df.at[idx, f'n_{col}'] += int(curr_word)\n",
    "                            break\n",
    "                        elif curr_word in word_to_num:\n",
    "                            air_df.at[idx, f'n_{col}'] += word_to_num[curr_word]\n",
    "                            break\n",
    "    return air_df"
   ]
  },
  {
   "cell_type": "code",
   "execution_count": 49,
   "metadata": {},
   "outputs": [],
   "source": [
    "air_df = airstrike_extraction(air_df)"
   ]
  },
  {
   "cell_type": "code",
   "execution_count": 51,
   "metadata": {},
   "outputs": [],
   "source": [
    "# air_df.head(50)"
   ]
  },
  {
   "cell_type": "markdown",
   "metadata": {},
   "source": [
    "Disrupted weapon used\n",
    "- Mine for number of drones/missiles being intercepted(also their model, if any) <----- (extract only drone's model)\n",
    "\n",
    "Airdrone strike\n",
    "- Air strike or Drone strike\n",
    "- (opt.) equipment <----- (I didn't do this part)\n",
    "\n",
    "Armed Clash\n",
    "- (opt.) supported by any weapon/support types?\n",
    "\n",
    "Shelling\n",
    "- done already,look for aviation support\n",
    "- type of missile\n",
    "\n",
    "Government regain territory\n",
    "- no worries\n"
   ]
  },
  {
   "cell_type": "code",
   "execution_count": null,
   "metadata": {},
   "outputs": [],
   "source": [
    "# test"
   ]
  },
  {
   "cell_type": "code",
   "execution_count": null,
   "metadata": {},
   "outputs": [],
   "source": []
  }
 ],
 "metadata": {
  "kernelspec": {
   "display_name": "Python 3",
   "language": "python",
   "name": "python3"
  },
  "language_info": {
   "codemirror_mode": {
    "name": "ipython",
    "version": 3
   },
   "file_extension": ".py",
   "mimetype": "text/x-python",
   "name": "python",
   "nbconvert_exporter": "python",
   "pygments_lexer": "ipython3",
   "version": "3.9.6"
  }
 },
 "nbformat": 4,
 "nbformat_minor": 2
}
